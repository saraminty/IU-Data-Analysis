{
 "cells": [
  {
   "cell_type": "code",
   "execution_count": 1,
   "id": "5d7f0a3a",
   "metadata": {
    "_cell_guid": "b1076dfc-b9ad-4769-8c92-a6c4dae69d19",
    "_uuid": "8f2839f25d086af736a60e9eeb907d3b93b6e0e5",
    "execution": {
     "iopub.execute_input": "2025-02-25T08:56:38.068507Z",
     "iopub.status.busy": "2025-02-25T08:56:38.068007Z",
     "iopub.status.idle": "2025-02-25T08:56:39.468640Z",
     "shell.execute_reply": "2025-02-25T08:56:39.466403Z"
    },
    "papermill": {
     "duration": 1.408437,
     "end_time": "2025-02-25T08:56:39.472127",
     "exception": false,
     "start_time": "2025-02-25T08:56:38.063690",
     "status": "completed"
    },
    "tags": []
   },
   "outputs": [
    {
     "name": "stdout",
     "output_type": "stream",
     "text": [
      "/kaggle/input/university-students-complaints-and-reports/Datasetprojpowerbi.csv\n"
     ]
    }
   ],
   "source": [
    "# This Python 3 environment comes with many helpful analytics libraries installed\n",
    "# It is defined by the kaggle/python Docker image: https://github.com/kaggle/docker-python\n",
    "# For example, here's several helpful packages to load\n",
    "\n",
    "import numpy as np # linear algebra\n",
    "import pandas as pd # data processing, CSV file I/O (e.g. pd.read_csv)\n",
    "\n",
    "# Input data files are available in the read-only \"../input/\" directory\n",
    "# For example, running this (by clicking run or pressing Shift+Enter) will list all files under the input directory\n",
    "\n",
    "import os\n",
    "for dirname, _, filenames in os.walk('/kaggle/input'):\n",
    "    for filename in filenames:\n",
    "        print(os.path.join(dirname, filename))\n",
    "\n",
    "# You can write up to 20GB to the current directory (/kaggle/working/) that gets preserved as output when you create a version using \"Save & Run All\" \n",
    "# You can also write temporary files to /kaggle/temp/, but they won't be saved outside of the current session"
   ]
  },
  {
   "cell_type": "code",
   "execution_count": 2,
   "id": "038f1366",
   "metadata": {
    "execution": {
     "iopub.execute_input": "2025-02-25T08:56:39.480300Z",
     "iopub.status.busy": "2025-02-25T08:56:39.479535Z",
     "iopub.status.idle": "2025-02-25T08:57:12.625666Z",
     "shell.execute_reply": "2025-02-25T08:57:12.623530Z"
    },
    "papermill": {
     "duration": 33.153132,
     "end_time": "2025-02-25T08:57:12.628485",
     "exception": false,
     "start_time": "2025-02-25T08:56:39.475353",
     "status": "completed"
    },
    "tags": []
   },
   "outputs": [
    {
     "name": "stdout",
     "output_type": "stream",
     "text": [
      "[nltk_data] Downloading package stopwords to /usr/share/nltk_data...\n",
      "[nltk_data]   Unzipping corpora/stopwords.zip.\n",
      "[nltk_data] Downloading package punkt to /usr/share/nltk_data...\n",
      "[nltk_data]   Package punkt is already up-to-date!\n",
      "Topic 0: academ, access, limit, student, need, find, cours, difficult, avail, make\n",
      "Topic 1: student, univers, option, offer, opportun, wish, job, campu, provid, avail\n",
      "Topic 2: health, mental, balanc, work, stress, time, respons, manag, commit, workload\n",
      "Coherence Score: 0.6318581022138519\n"
     ]
    }
   ],
   "source": [
    "import pandas as pd\n",
    "import string\n",
    "import nltk\n",
    "from nltk.corpus import stopwords\n",
    "nltk.download(\"stopwords\")\n",
    "from nltk.tokenize import word_tokenize\n",
    "nltk.download(\"punkt\")\n",
    "from nltk.stem import PorterStemmer\n",
    "import sklearn\n",
    "from sklearn.feature_extraction.text import TfidfVectorizer\n",
    "from sklearn.decomposition import TruncatedSVD\n",
    "import numpy as np\n",
    "import gensim\n",
    "from gensim.corpora import Dictionary\n",
    "from gensim.models import CoherenceModel\n",
    "\n",
    "df = pd.read_csv(\"/kaggle/input/university-students-complaints-and-reports/Datasetprojpowerbi.csv\")\n",
    "\n",
    "df[\"Reports_lower\"] = df[\"Reports\"].str.lower()\n",
    "\n",
    "translator = str.maketrans(\" \",\" \",string.punctuation)\n",
    "df[\"Reports_nopunct\"] = df[\"Reports_lower\"].str.translate(translator)\n",
    "\n",
    "english_stopwords = set(stopwords.words(\"english\"))\n",
    "custom_stopwords = {\"im\",\"really\",\"student\",\"like\",\"feel\",\"ive\"}\n",
    "combined_stopwords = english_stopwords.union(custom_stopwords)\n",
    "def remove_stopwords(text):\n",
    "    words = word_tokenize(text.lower())\n",
    "    improved_text = [word for word in words if word not in combined_stopwords and word not in translator and not word.isdigit()]\n",
    "    return \" \".join(improved_text)\n",
    "\n",
    "df[\"cleaned_Reports\"] = df[\"Reports_nopunct\"].apply(remove_stopwords)\n",
    "\n",
    "stemmer = PorterStemmer()\n",
    "def stem_text(text):\n",
    "    words = word_tokenize(text)\n",
    "    stemmed_words = [stemmer.stem(word) for word in words]\n",
    "    return \" \".join(stemmed_words)\n",
    "\n",
    "df[\"stemmed_Reports\"] = df[\"cleaned_Reports\"].apply(stem_text)\n",
    "\n",
    "vectorizer = TfidfVectorizer()\n",
    "X = vectorizer.fit_transform(df[\"stemmed_Reports\"])\n",
    "tfidf_df = pd.DataFrame(X.toarray(), columns = vectorizer.get_feature_names_out())\n",
    "\n",
    "lsa = TruncatedSVD(n_components=3)\n",
    "X_lsa = lsa.fit_transform(X)\n",
    "terms = vectorizer.get_feature_names_out()\n",
    "\n",
    "number_top_words = 10\n",
    "lsa_topics = []\n",
    "for topic in lsa.components_:\n",
    "    top_terms_index = topic.argsort()[:-number_top_words - 1:-1]\n",
    "    top_terms = [terms[i] for i in top_terms_index]\n",
    "    lsa_topics.append(top_terms)\n",
    "\n",
    "for i, topic in enumerate(lsa_topics):\n",
    "    print(f\"Topic {i}: {', '.join(topic)}\")\n",
    "\n",
    "tokenized_docs = [word_tokenize(text) for text in df[\"stemmed_Reports\"]]\n",
    "\n",
    "dictionary = Dictionary(tokenized_docs)\n",
    "corpus = [dictionary.doc2bow(doc) for doc in tokenized_docs]\n",
    "\n",
    "coherence_model_lsa = CoherenceModel(topics=lsa_topics, texts=tokenized_docs, dictionary=dictionary, coherence=\"c_v\")\n",
    "\n",
    "coherence_score = coherence_model_lsa.get_coherence()\n",
    "print(f\"Coherence Score: {coherence_score}\")\n"
   ]
  }
 ],
 "metadata": {
  "kaggle": {
   "accelerator": "none",
   "dataSources": [
    {
     "datasetId": 3260867,
     "sourceId": 6264732,
     "sourceType": "datasetVersion"
    }
   ],
   "dockerImageVersionId": 30886,
   "isGpuEnabled": false,
   "isInternetEnabled": true,
   "language": "python",
   "sourceType": "notebook"
  },
  "kernelspec": {
   "display_name": "Python 3",
   "language": "python",
   "name": "python3"
  },
  "language_info": {
   "codemirror_mode": {
    "name": "ipython",
    "version": 3
   },
   "file_extension": ".py",
   "mimetype": "text/x-python",
   "name": "python",
   "nbconvert_exporter": "python",
   "pygments_lexer": "ipython3",
   "version": "3.10.12"
  },
  "papermill": {
   "default_parameters": {},
   "duration": 41.000584,
   "end_time": "2025-02-25T08:57:15.179722",
   "environment_variables": {},
   "exception": null,
   "input_path": "__notebook__.ipynb",
   "output_path": "__notebook__.ipynb",
   "parameters": {},
   "start_time": "2025-02-25T08:56:34.179138",
   "version": "2.6.0"
  }
 },
 "nbformat": 4,
 "nbformat_minor": 5
}
