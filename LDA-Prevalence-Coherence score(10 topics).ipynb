{
 "cells": [
  {
   "cell_type": "code",
   "execution_count": 1,
   "id": "8dafb1da",
   "metadata": {
    "_cell_guid": "b1076dfc-b9ad-4769-8c92-a6c4dae69d19",
    "_uuid": "8f2839f25d086af736a60e9eeb907d3b93b6e0e5",
    "execution": {
     "iopub.execute_input": "2025-02-25T07:48:47.290126Z",
     "iopub.status.busy": "2025-02-25T07:48:47.289426Z",
     "iopub.status.idle": "2025-02-25T07:48:48.426850Z",
     "shell.execute_reply": "2025-02-25T07:48:48.425143Z"
    },
    "papermill": {
     "duration": 1.144834,
     "end_time": "2025-02-25T07:48:48.430569",
     "exception": false,
     "start_time": "2025-02-25T07:48:47.285735",
     "status": "completed"
    },
    "tags": []
   },
   "outputs": [
    {
     "name": "stdout",
     "output_type": "stream",
     "text": [
      "/kaggle/input/university-students-complaints-and-reports/Datasetprojpowerbi.csv\n"
     ]
    }
   ],
   "source": [
    "# This Python 3 environment comes with many helpful analytics libraries installed\n",
    "# It is defined by the kaggle/python Docker image: https://github.com/kaggle/docker-python\n",
    "# For example, here's several helpful packages to load\n",
    "\n",
    "import numpy as np # linear algebra\n",
    "import pandas as pd # data processing, CSV file I/O (e.g. pd.read_csv)\n",
    "\n",
    "# Input data files are available in the read-only \"../input/\" directory\n",
    "# For example, running this (by clicking run or pressing Shift+Enter) will list all files under the input directory\n",
    "\n",
    "import os\n",
    "for dirname, _, filenames in os.walk('/kaggle/input'):\n",
    "    for filename in filenames:\n",
    "        print(os.path.join(dirname, filename))\n",
    "\n",
    "# You can write up to 20GB to the current directory (/kaggle/working/) that gets preserved as output when you create a version using \"Save & Run All\" \n",
    "# You can also write temporary files to /kaggle/temp/, but they won't be saved outside of the current session"
   ]
  },
  {
   "cell_type": "code",
   "execution_count": 2,
   "id": "51ee0857",
   "metadata": {
    "execution": {
     "iopub.execute_input": "2025-02-25T07:48:48.438586Z",
     "iopub.status.busy": "2025-02-25T07:48:48.437874Z",
     "iopub.status.idle": "2025-02-25T07:49:16.764127Z",
     "shell.execute_reply": "2025-02-25T07:49:16.762523Z"
    },
    "papermill": {
     "duration": 28.332566,
     "end_time": "2025-02-25T07:49:16.766322",
     "exception": false,
     "start_time": "2025-02-25T07:48:48.433756",
     "status": "completed"
    },
    "tags": []
   },
   "outputs": [
    {
     "name": "stdout",
     "output_type": "stream",
     "text": [
      "[nltk_data] Downloading package stopwords to /usr/share/nltk_data...\n",
      "[nltk_data]   Unzipping corpora/stopwords.zip.\n",
      "[nltk_data] Downloading package punkt to /usr/share/nltk_data...\n",
      "[nltk_data]   Package punkt is already up-to-date!\n",
      "Topic #0:\n",
      "money applic caus technic difficulti\n",
      "Topic #1:\n",
      "make campu medic afford option\n",
      "Topic #2:\n",
      "offer dine opportun food job\n",
      "Topic #3:\n",
      "need ix titl injuri univers\n",
      "Topic #4:\n",
      "struggl academ work time balanc\n",
      "Topic #5:\n",
      "unfair elig unabl scholarship athlet\n",
      "Topic #6:\n",
      "affect health anxieti mental stress\n",
      "Topic #7:\n",
      "cours research materi limit access\n",
      "Topic #8:\n",
      "resourc support univers cultur student\n",
      "Topic #9:\n",
      "opportun career internship academ job\n",
      "[0.02102602 0.02102609 0.02102365 0.02102396 0.02102427 0.0210235\n",
      " 0.02102737 0.81077461 0.02102482 0.02102572]\n",
      "   Topic  Prevalence\n",
      "8      8  183.292846\n",
      "1      1  171.121513\n",
      "7      7  111.938883\n",
      "2      2  103.044120\n",
      "6      6   99.680179\n",
      "4      4   82.681628\n",
      "9      9   78.001224\n",
      "3      3   66.796626\n",
      "0      0   57.576003\n",
      "5      5   50.866978\n",
      "Topic #0: 0.020*\"need\" + 0.018*\"univers\" + 0.016*\"job\" + 0.015*\"opportun\" + 0.014*\"student\"\n",
      "Topic #1: 0.036*\"access\" + 0.028*\"limit\" + 0.024*\"find\" + 0.022*\"academ\" + 0.018*\"difficult\"\n",
      "Topic #2: 0.019*\"find\" + 0.019*\"hard\" + 0.014*\"opportun\" + 0.013*\"campu\" + 0.012*\"option\"\n",
      "Topic #3: 0.020*\"access\" + 0.018*\"limit\" + 0.016*\"health\" + 0.015*\"student\" + 0.011*\"find\"\n",
      "Topic #4: 0.019*\"hard\" + 0.019*\"time\" + 0.017*\"academ\" + 0.016*\"make\" + 0.014*\"get\"\n",
      "Topic #5: 0.020*\"challeng\" + 0.016*\"cours\" + 0.015*\"onlin\" + 0.014*\"student\" + 0.013*\"time\"\n",
      "Topic #6: 0.042*\"student\" + 0.027*\"univers\" + 0.021*\"opportun\" + 0.017*\"job\" + 0.013*\"struggl\"\n",
      "Topic #7: 0.024*\"student\" + 0.021*\"resourc\" + 0.021*\"univers\" + 0.021*\"academ\" + 0.018*\"support\"\n",
      "Topic #8: 0.028*\"student\" + 0.019*\"wish\" + 0.017*\"univers\" + 0.012*\"offer\" + 0.012*\"option\"\n",
      "Topic #9: 0.020*\"class\" + 0.020*\"student\" + 0.019*\"make\" + 0.017*\"need\" + 0.016*\"access\"\n",
      "Coherence Score: 0.2929381167969911\n"
     ]
    }
   ],
   "source": [
    "import pandas as pd\n",
    "import string\n",
    "import nltk\n",
    "from nltk.corpus import stopwords\n",
    "nltk.download(\"stopwords\")\n",
    "from nltk.tokenize import word_tokenize\n",
    "nltk.download(\"punkt\")\n",
    "from nltk.stem import PorterStemmer\n",
    "import sklearn\n",
    "from sklearn.feature_extraction.text import TfidfVectorizer\n",
    "from sklearn.decomposition import LatentDirichletAllocation\n",
    "import numpy as np\n",
    "import gensim\n",
    "from gensim.models import LdaModel\n",
    "from gensim.corpora import Dictionary\n",
    "from gensim.models import CoherenceModel\n",
    "\n",
    "df = pd.read_csv(\"/kaggle/input/university-students-complaints-and-reports/Datasetprojpowerbi.csv\")\n",
    "\n",
    "df[\"Reports_lower\"] = df[\"Reports\"].str.lower()\n",
    "\n",
    "translator = str.maketrans(\" \",\" \",string.punctuation)\n",
    "df[\"Reports_nopunct\"] = df[\"Reports_lower\"].str.translate(translator)\n",
    "\n",
    "english_stopwords = set(stopwords.words(\"english\"))\n",
    "custom_stopwords = {\"im\",\"really\",\"student\",\"like\",\"feel\",\"ive\"}\n",
    "combined_stopwords = english_stopwords.union(custom_stopwords)\n",
    "def remove_stopwords(text):\n",
    "    words = word_tokenize(text.lower())\n",
    "    improved_text = [word for word in words if word not in combined_stopwords and word not in translator and not word.isdigit()]\n",
    "    return \" \".join(improved_text)\n",
    "\n",
    "df[\"cleaned_Reports\"] = df[\"Reports_nopunct\"].apply(remove_stopwords)\n",
    "\n",
    "stemmer = PorterStemmer()\n",
    "def stem_text(text):\n",
    "    words = word_tokenize(text)\n",
    "    stemmed_words = [stemmer.stem(word) for word in words]\n",
    "    return \" \".join(stemmed_words)\n",
    "\n",
    "df[\"stemmed_Reports\"] = df[\"cleaned_Reports\"].apply(stem_text)\n",
    "\n",
    "vectorizer = TfidfVectorizer()\n",
    "X = vectorizer.fit_transform(df[\"stemmed_Reports\"])\n",
    "tfidf_df = pd.DataFrame(X.toarray(), columns = vectorizer.get_feature_names_out())\n",
    "\n",
    "n_topics=10\n",
    "lda = LatentDirichletAllocation(n_components=n_topics, random_state=42)\n",
    "lda.fit(X)\n",
    "feature_names = vectorizer.get_feature_names_out()\n",
    "\n",
    "for topic_idx, topic in enumerate(lda.components_):\n",
    "    print(f\"Topic #{topic_idx}:\")\n",
    "    print(\" \".join([feature_names[i] for i in topic.argsort()[-5:]]))\n",
    "\n",
    "doc_topic_dist = lda.transform(X)\n",
    "topic_prevalence = doc_topic_dist.sum(axis=0)\n",
    "topic_df = pd.DataFrame({\"Topic\": range(lda.n_components),\"Prevalence\": topic_prevalence})\n",
    "\n",
    "topic_df = topic_df.sort_values(by=\"Prevalence\", ascending=False)\n",
    "\n",
    "print(doc_topic_dist[0])\n",
    "print(topic_df)\n",
    "\n",
    "tokenized_docs = [word_tokenize(text) for text in df[\"stemmed_Reports\"]]\n",
    "dictionary = Dictionary(tokenized_docs)\n",
    "corpus = [dictionary.doc2bow(doc) for doc in tokenized_docs]\n",
    "n_topics = 10\n",
    "lda_gensim = LdaModel(corpus, num_topics=n_topics, id2word=dictionary, random_state=42)\n",
    "\n",
    "for topic_idx, topic in lda_gensim.print_topics(num_words=5):\n",
    "    print(f\"Topic #{topic_idx}: {topic}\")\n",
    "\n",
    "coherence_model_lda = CoherenceModel(model=lda_gensim, texts=tokenized_docs, dictionary=dictionary, coherence=\"c_v\")\n",
    "\n",
    "coherence_score = coherence_model_lda.get_coherence()\n",
    "print(f\"Coherence Score: {coherence_score}\")"
   ]
  }
 ],
 "metadata": {
  "kaggle": {
   "accelerator": "none",
   "dataSources": [
    {
     "datasetId": 3260867,
     "sourceId": 6264732,
     "sourceType": "datasetVersion"
    }
   ],
   "dockerImageVersionId": 30886,
   "isGpuEnabled": false,
   "isInternetEnabled": true,
   "language": "python",
   "sourceType": "notebook"
  },
  "kernelspec": {
   "display_name": "Python 3",
   "language": "python",
   "name": "python3"
  },
  "language_info": {
   "codemirror_mode": {
    "name": "ipython",
    "version": 3
   },
   "file_extension": ".py",
   "mimetype": "text/x-python",
   "name": "python",
   "nbconvert_exporter": "python",
   "pygments_lexer": "ipython3",
   "version": "3.10.12"
  },
  "papermill": {
   "default_parameters": {},
   "duration": 36.3266,
   "end_time": "2025-02-25T07:49:19.688207",
   "environment_variables": {},
   "exception": null,
   "input_path": "__notebook__.ipynb",
   "output_path": "__notebook__.ipynb",
   "parameters": {},
   "start_time": "2025-02-25T07:48:43.361607",
   "version": "2.6.0"
  }
 },
 "nbformat": 4,
 "nbformat_minor": 5
}
