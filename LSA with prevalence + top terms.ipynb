{
 "cells": [
  {
   "cell_type": "code",
   "execution_count": 1,
   "id": "340119e1",
   "metadata": {
    "_cell_guid": "b1076dfc-b9ad-4769-8c92-a6c4dae69d19",
    "_uuid": "8f2839f25d086af736a60e9eeb907d3b93b6e0e5",
    "execution": {
     "iopub.execute_input": "2025-02-14T08:42:57.589144Z",
     "iopub.status.busy": "2025-02-14T08:42:57.588719Z",
     "iopub.status.idle": "2025-02-14T08:42:58.596437Z",
     "shell.execute_reply": "2025-02-14T08:42:58.594455Z"
    },
    "papermill": {
     "duration": 1.013997,
     "end_time": "2025-02-14T08:42:58.599092",
     "exception": false,
     "start_time": "2025-02-14T08:42:57.585095",
     "status": "completed"
    },
    "tags": []
   },
   "outputs": [
    {
     "name": "stdout",
     "output_type": "stream",
     "text": [
      "/kaggle/input/university-students-complaints-and-reports/Datasetprojpowerbi.csv\n"
     ]
    }
   ],
   "source": [
    "# This Python 3 environment comes with many helpful analytics libraries installed\n",
    "# It is defined by the kaggle/python Docker image: https://github.com/kaggle/docker-python\n",
    "# For example, here's several helpful packages to load\n",
    "\n",
    "import numpy as np # linear algebra\n",
    "import pandas as pd # data processing, CSV file I/O (e.g. pd.read_csv)\n",
    "\n",
    "# Input data files are available in the read-only \"../input/\" directory\n",
    "# For example, running this (by clicking run or pressing Shift+Enter) will list all files under the input directory\n",
    "\n",
    "import os\n",
    "for dirname, _, filenames in os.walk('/kaggle/input'):\n",
    "    for filename in filenames:\n",
    "        print(os.path.join(dirname, filename))\n",
    "\n",
    "# You can write up to 20GB to the current directory (/kaggle/working/) that gets preserved as output when you create a version using \"Save & Run All\" \n",
    "# You can also write temporary files to /kaggle/temp/, but they won't be saved outside of the current session"
   ]
  },
  {
   "cell_type": "code",
   "execution_count": 2,
   "id": "35f6e14d",
   "metadata": {
    "execution": {
     "iopub.execute_input": "2025-02-14T08:42:58.606181Z",
     "iopub.status.busy": "2025-02-14T08:42:58.605504Z",
     "iopub.status.idle": "2025-02-14T08:43:02.234867Z",
     "shell.execute_reply": "2025-02-14T08:43:02.233368Z"
    },
    "papermill": {
     "duration": 3.63623,
     "end_time": "2025-02-14T08:43:02.238282",
     "exception": false,
     "start_time": "2025-02-14T08:42:58.602052",
     "status": "completed"
    },
    "tags": []
   },
   "outputs": [
    {
     "name": "stdout",
     "output_type": "stream",
     "text": [
      "[nltk_data] Downloading package stopwords to /usr/share/nltk_data...\n",
      "[nltk_data]   Package stopwords is already up-to-date!\n",
      "[nltk_data] Downloading package punkt to /usr/share/nltk_data...\n",
      "[nltk_data]   Package punkt is already up-to-date!\n",
      "Topic 0:\n",
      "['academ', 'access', 'limit', 'student', 'need', 'find', 'cours', 'difficult', 'avail', 'make']\n",
      "Topic 1:\n",
      "['student', 'univers', 'option', 'offer', 'opportun', 'wish', 'job', 'campu', 'provid', 'avail']\n",
      "Topic 2:\n",
      "['health', 'mental', 'balanc', 'work', 'stress', 'time', 'respons', 'manag', 'commit', 'workload']\n",
      "Topic 3:\n",
      "['option', 'food', 'campu', 'cafeteria', 'cantin', 'afford', 'offer', 'limit', 'access', 'avail']\n",
      "Topic 4:\n",
      "['onlin', 'class', 'made', 'time', 'professor', 'campu', 'differ', 'difficult', 'food', 'often']\n",
      "Topic 5:\n",
      "['health', 'afford', 'care', 'mental', 'class', 'onlin', 'need', 'resourc', 'student', 'medic']\n",
      "Topic 6:\n",
      "['academ', 'support', 'resourc', 'advisor', 'sport', 'cultur', 'student', 'athlet', 'intern', 'help']\n",
      "Topic 7:\n",
      "['avail', 'need', 'academ', 'class', 'get', 'lack', 'limit', 'advisor', 'plan', 'onlin']\n",
      "Topic 8:\n",
      "['health', 'mental', 'care', 'onlin', 'job', 'made', 'afford', 'class', 'difficult', 'opportun']\n",
      "Topic 9:\n",
      "['caus', 'stress', 'cours', 'lot', 'avail', 'student', 'anxieti', 'difficulti', 'wish', 'onlin']\n",
      "Sorted topics by prevalence\n",
      "Topic #1 (Prevalence: 163.5976)\n",
      "Topic #2 (Prevalence: 30.2175)\n",
      "Topic #3 (Prevalence: 11.6542)\n",
      "Topic #5 (Prevalence: 8.9384)\n",
      "Topic #4 (Prevalence: 6.3427)\n",
      "Topic #6 (Prevalence: 2.6490)\n",
      "Topic #8 (Prevalence: 1.6046)\n",
      "Topic #10 (Prevalence: -7.1893)\n",
      "Topic #7 (Prevalence: -11.3548)\n",
      "Topic #9 (Prevalence: -13.9063)\n",
      "Top terms: ['aid', 'offic', 'tuition', 'food', 'though', 'much', 'background', 'inclus', 'treatment', 'environ', 'there', 'love', 'overpr', 'ensur', 'doesnt', 'come', 'unfair', 'schoolwork', 'day', 'includ', 'within', 'peopl', 'request', 'unnecessari', 'criteria', 'deal', 'celebr', 'strain', 'unsupport', 'especi', 'park', 'norm', 'anyth', 'elitist', 'noth', 'unreli', 'anyon', 'good', 'harm', 'hasnt', 'sens', 'mine', 'mistak', 'upcom', 'ad', 'tini', 'entir', 'guilti', 'unaccept', 'permit', 'credit', 'preferenti', 'deserv', 'delici', 'regardless', 'concentr', 'sick', 'hold', 'hassl', 'room', 'galleri', 'dinner', 'nice', 'feasibl', 'distribut', 'talk', 'harsh', 'properli', 'heavi', 'center', 'popul', 'teach', 'wall', 'american', 'favorit', 'poetri', 'quick', 'parti', 'detract', 'scenic', 'protocol', 'goal', 'abil', 'disappoint', 'diseas', 'therapi', 'yet', 'likemind', 'shuttl', 'individu', 'ingredi', 'dream', 'avoid', 'infest', 'person', 'depart', 'order', 'diet', 'numer', 'search', 'earn', 'overwork', 'reconsid', 'classmat', 'poor', 'seen', 'path', 'increas', 'burnout', 'hous', 'wellb', 'align', 'isnt', 'oncampu', 'counsel', 'hinder', 'insur', 'assign', 'internship', 'health']\n",
      "\n"
     ]
    }
   ],
   "source": [
    "import pandas as pd\n",
    "import string\n",
    "import nltk\n",
    "from nltk.corpus import stopwords\n",
    "nltk.download(\"stopwords\")\n",
    "from nltk.tokenize import word_tokenize\n",
    "nltk.download(\"punkt\")\n",
    "from nltk.stem import PorterStemmer\n",
    "import sklearn\n",
    "from sklearn.feature_extraction.text import TfidfVectorizer\n",
    "from sklearn.decomposition import TruncatedSVD\n",
    "import numpy as np\n",
    "\n",
    "df = pd.read_csv(\"/kaggle/input/university-students-complaints-and-reports/Datasetprojpowerbi.csv\")\n",
    "\n",
    "df[\"Reports_lower\"] = df[\"Reports\"].str.lower()\n",
    "\n",
    "translator = str.maketrans(\" \",\" \",string.punctuation)\n",
    "df[\"Reports_nopunct\"] = df[\"Reports_lower\"].str.translate(translator)\n",
    "\n",
    "english_stopwords = set(stopwords.words(\"english\"))\n",
    "custom_stopwords = {\"im\",\"really\",\"student\",\"like\",\"feel\",\"ive\"}\n",
    "combined_stopwords = english_stopwords.union(custom_stopwords)\n",
    "def remove_stopwords(text):\n",
    "    words = word_tokenize(text.lower())\n",
    "    improved_text = [word for word in words if word not in combined_stopwords and word not in translator and not word.isdigit()]\n",
    "    return \" \".join(improved_text)\n",
    "\n",
    "df[\"cleaned_Reports\"] = df[\"Reports_nopunct\"].apply(remove_stopwords)\n",
    "\n",
    "stemmer = PorterStemmer()\n",
    "def stem_text(text):\n",
    "    words = word_tokenize(text)\n",
    "    stemmed_words = [stemmer.stem(word) for word in words]\n",
    "    return \" \".join(stemmed_words)\n",
    "\n",
    "df[\"stemmed_Reports\"] = df[\"cleaned_Reports\"].apply(stem_text)\n",
    "\n",
    "vectorizer = TfidfVectorizer()\n",
    "X = vectorizer.fit_transform(df[\"stemmed_Reports\"])\n",
    "tfidf_df = pd.DataFrame(X.toarray(), columns = vectorizer.get_feature_names_out())\n",
    "\n",
    "lsa = TruncatedSVD(n_components=10)\n",
    "X_lsa = lsa.fit_transform(X)\n",
    "terms = vectorizer.get_feature_names_out()\n",
    "for i, topic in enumerate(lsa.components_):\n",
    "    print(f\"Topic {i}:\")\n",
    "    print([terms [i] for i in topic.argsort()[:-11:-1]])\n",
    "\n",
    "topic_prevalence_sum = np.sum(X_lsa, axis=0)\n",
    "\n",
    "sorted_topics_by_sum = np.argsort(topic_prevalence_sum)[::-1]\n",
    "sorted_topic_prevalence = topic_prevalence_sum[sorted_topics_by_sum]\n",
    "\n",
    "print(\"Sorted topics by prevalence\")\n",
    "for idx, topic_idx in enumerate(sorted_topics_by_sum):\n",
    "    print(f\"Topic #{topic_idx + 1} (Prevalence: {sorted_topic_prevalence[idx]:.4f})\")\n",
    "\n",
    "top_terms_idx = np.argsort(lsa.components_ [topic_idx]) [::-11][::-1]\n",
    "top_terms = [vectorizer.get_feature_names_out()[i] for i in top_terms_idx]\n",
    "\n",
    "print(f\"Top terms: {top_terms}\")\n",
    "print()"
   ]
  }
 ],
 "metadata": {
  "kaggle": {
   "accelerator": "none",
   "dataSources": [
    {
     "datasetId": 3260867,
     "sourceId": 6264732,
     "sourceType": "datasetVersion"
    }
   ],
   "dockerImageVersionId": 30886,
   "isGpuEnabled": false,
   "isInternetEnabled": true,
   "language": "python",
   "sourceType": "notebook"
  },
  "kernelspec": {
   "display_name": "Python 3",
   "language": "python",
   "name": "python3"
  },
  "language_info": {
   "codemirror_mode": {
    "name": "ipython",
    "version": 3
   },
   "file_extension": ".py",
   "mimetype": "text/x-python",
   "name": "python",
   "nbconvert_exporter": "python",
   "pygments_lexer": "ipython3",
   "version": "3.10.12"
  },
  "papermill": {
   "default_parameters": {},
   "duration": 8.770389,
   "end_time": "2025-02-14T08:43:03.371239",
   "environment_variables": {},
   "exception": null,
   "input_path": "__notebook__.ipynb",
   "output_path": "__notebook__.ipynb",
   "parameters": {},
   "start_time": "2025-02-14T08:42:54.600850",
   "version": "2.6.0"
  }
 },
 "nbformat": 4,
 "nbformat_minor": 5
}
